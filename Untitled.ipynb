{
 "cells": [
  {
   "cell_type": "code",
   "execution_count": 175,
   "metadata": {},
   "outputs": [],
   "source": [
    "import  requests\n",
    "import matplotlib.pyplot as plt\n",
    "import plotly.plotly as py\n",
    "import plotly.graph_objs as go\n",
    "from datetime import datetime\n",
    "\n",
    "# fetch 30 minute klines last 500\n",
    "r = requests.get('https://api.binance.com/api/v1/klines?symbol=ARKBTC&interval=30m&startTime=1546218000000&limit=1000')\n",
    "\n",
    "#[\n",
    "#  [\n",
    "#  0  1499040000000,      // Open time \n",
    "#  1  \"0.01634790\",       // Open\n",
    "#  2  \"0.80000000\",       // High\n",
    "#  3  \"0.01575800\",       // Low\n",
    "#  4  \"0.01577100\",       // Close\n",
    "#  5  \"148976.11427815\",  // Volume\n",
    "#  6  1499644799999,      // Close time\n",
    "#  7  \"2434.19055334\",    // Quote asset volume\n",
    "#  8  308,                // Number of trades\n",
    "#  9  \"1756.87402397\",    // Taker buy base asset volume\n",
    "#  10 \"28.46694368\",      // Taker buy quote asset volume\n",
    "#  11 \"17928899.62484339\" // Ignore.\n",
    "#  ]\n",
    "#]"
   ]
  },
  {
   "cell_type": "code",
   "execution_count": 176,
   "metadata": {},
   "outputs": [],
   "source": [
    "#Transfomre the tab in a dict \n",
    "Candlesticks = [[0]*12 for i in range(0,1000)]\n",
    "for i,Candlestick in enumerate(r.json()):\n",
    "    Candlesticks[i][0] = Candlestick[0]\n",
    "    Candlesticks[i][1] = float(Candlestick[1])\n",
    "    Candlesticks[i][2] = float(Candlestick[2])\n",
    "    Candlesticks[i][3] = float(Candlestick[3])\n",
    "    Candlesticks[i][4] = float(Candlestick[4])\n",
    "    Candlesticks[i][5] = float(Candlestick[5])\n",
    "    Candlesticks[i][6] = Candlestick[6]\n",
    "    Candlesticks[i][7] = float(Candlestick[7])\n",
    "    Candlesticks[i][8] = Candlestick[8]\n",
    "    Candlesticks[i][9] = float(Candlestick[9])\n",
    "    Candlesticks[i][10] = float(Candlestick[10])\n",
    "    Candlesticks[i][11] = float(Candlestick[11])\n"
   ]
  },
  {
   "cell_type": "code",
   "execution_count": 174,
   "metadata": {},
   "outputs": [
    {
     "data": {
      "text/plain": [
       "22.988642466068267"
      ]
     },
     "execution_count": 174,
     "metadata": {},
     "output_type": "execute_result"
    }
   ],
   "source": [
    "(1810-datetime.now().timestamp()%1800)/60"
   ]
  },
  {
   "cell_type": "code",
   "execution_count": 177,
   "metadata": {},
   "outputs": [
    {
     "name": "stdout",
     "output_type": "stream",
     "text": [
      "2019-01-10 11:30:00\n",
      "1000\n"
     ]
    }
   ],
   "source": [
    "print (datetime.fromtimestamp(Candlesticks[499][0]/1e3))\n",
    "print (len(Candlesticks))"
   ]
  },
  {
   "cell_type": "code",
   "execution_count": 143,
   "metadata": {},
   "outputs": [
    {
     "data": {
      "image/png": "[encoded data removed]",
      "text/plain": [
       "<Figure size 432x288 with 1 Axes>"
      ]
     },
     "metadata": {
      "needs_background": "light"
     },
     "output_type": "display_data"
    }
   ],
   "source": [
    "opening_price = [Candlestick[1] for Candlestick in Candlesticks]\n",
    "closing_price = [Candlestick[4] for Candlestick in Candlesticks]\n",
    "high_price = [Candlestick[2] for Candlestick in Candlesticks]\n",
    "low_price = [Candlestick[3] for Candlestick in Candlesticks]\n",
    "first = 202\n",
    "size = 10\n",
    "\n",
    "x= [i for i in range(0,size)]\n",
    "\n",
    "\n",
    "import matplotlib.pyplot as plt\n",
    "plt.plot(x,opening_price[first:first+size], label=\"opening \")\n",
    "plt.plot(x,closing_price[first:first+size], label=\"closing \")\n",
    "plt.plot(x,high_price[first:first+size], label=\"high\")\n",
    "plt.plot(x,low_price[first:first+size], label=\"low\")\n",
    "\n",
    "plt.ylabel('time to comput (in s)')\n",
    "plt.xlabel('k')\n",
    "plt.legend(numpoints=2)\n",
    "plt.show()"
   ]
  },
  {
   "cell_type": "code",
   "execution_count": 13,
   "metadata": {},
   "outputs": [
    {
     "ename": "TypeError",
     "evalue": "iplot() missing 1 required positional argument: 'figure_or_data'",
     "output_type": "error",
     "traceback": [
      "\u001b[1;31m---------------------------------------------------------------------------\u001b[0m",
      "\u001b[1;31mTypeError\u001b[0m                                 Traceback (most recent call last)",
      "\u001b[1;32m<ipython-input-13-d6f516424a37>\u001b[0m in \u001b[0;36m<module>\u001b[1;34m\u001b[0m\n\u001b[0;32m     13\u001b[0m                        \u001b[0mhigh\u001b[0m\u001b[1;33m=\u001b[0m\u001b[0mhigh_data\u001b[0m\u001b[1;33m,\u001b[0m\u001b[1;33m\u001b[0m\u001b[0m\n\u001b[0;32m     14\u001b[0m                        \u001b[0mlow\u001b[0m\u001b[1;33m=\u001b[0m\u001b[0mlow_data\u001b[0m\u001b[1;33m,\u001b[0m\u001b[1;33m\u001b[0m\u001b[0m\n\u001b[1;32m---> 15\u001b[1;33m                        close=close_data, filename='cufflinks/simple_candlestick')\n\u001b[0m",
      "\u001b[1;31mTypeError\u001b[0m: iplot() missing 1 required positional argument: 'figure_or_data'"
     ]
    }
   ],
   "source": [
    "open_data = [Candlestick[1] for Candlestick in Candlesticks]\n",
    "high_data = [Candlestick[2] for Candlestick in Candlesticks]\n",
    "low_data = [Candlestick[3] for Candlestick in Candlesticks]\n",
    "close_data = [Candlestick[4] for Candlestick in Candlesticks]\n",
    "#dates = [datetime.fromtimestamp(Candlestick[0] / 1e3) for Candlestick in Candlesticks]\n",
    "\n",
    "trace = go.Candlestick(x=dates,\n",
    "                       open=open_data,\n",
    "                       high=high_data,\n",
    "                       low=low_data,\n",
    "                       close=close_data)\n",
    "data = [trace]\n",
    "py.iplot(data, filename='simple_candlestick')\n",
    "\n",
    "\n",
    "\n",
    "py.iplot(x=dates,\n",
    "                       open=open_data,\n",
    "                       high=high_data,\n",
    "                       low=low_data,\n",
    "                       close=close_data), filename='cufflinks/simple_candlestick')"
   ]
  },
  {
   "cell_type": "code",
   "execution_count": 37,
   "metadata": {},
   "outputs": [
    {
     "name": "stdout",
     "output_type": "stream",
     "text": [
      "[0.0001139, 0.0001139, 0.0001133, 0.0001133, 0.0001134, 0.0001134, 0.0001134, 0.0001134, 0.0001134, 0.0001134, 0.0001136, 0.0001129, 0.0001134, 0.0001137, 0.0001138, 0.0001132, 0.0001137, 0.0001133, 0.0001132, 0.0001138, 0.0001133, 0.0001134, 0.0001138, 0.0001132]\n"
     ]
    }
   ],
   "source": [
    "print( opening_price[475:499])"
   ]
  },
  {
   "cell_type": "code",
   "execution_count": 146,
   "metadata": {},
   "outputs": [
    {
     "name": "stdout",
     "output_type": "stream",
     "text": [
      "318\n",
      "[0.9879310344827585, 0.993103448275862, 0.9956896551724138, 0.9982758620689655, 0.996551724137931, 1.0008620689655172, 1.0, 0.9991379310344828, 0.9956896551724138, 0.9853448275862069]\n"
     ]
    }
   ],
   "source": [
    "#param: Candlestick: 10 Candlestick extracte withe the binance layout\n",
    "#OutPut: True is ther is a hammer on the 7th Candlestick\n",
    "def test_hammer(Candlesticks):\n",
    "    \n",
    "    #cheack if their is a downtrend befor the Hammer (oppening < closing_befor_hammer)\n",
    "    \n",
    "    is_a_global_downtrend_befor = Candlesticks[0][1]*0.995>Candlesticks[5][4]\n",
    "\n",
    "    #cheack if their is a Hammer\n",
    "    is_a_hammer = ((Candlesticks[6][4] > Candlesticks[6][1])) and ((Candlesticks[6][2]-Candlesticks[6][1])<(Candlesticks[6][1]-Candlesticks[6][3]))\n",
    "    \n",
    "    \n",
    "    #cheack if their is a uptrend after the Hammer\n",
    "    is_a_global_uptrend_after = (Candlesticks[7][1]*1.005<Candlesticks[9][4]) \n",
    "    \n",
    "    #cheack if their is an incrised volume after the Hammer\n",
    "    is_a_incrised_volume_after = Candlesticks[6][5]<Candlesticks[8][5]\n",
    "    \n",
    "    if (is_a_global_downtrend_befor and is_a_hammer and is_a_global_uptrend_after and is_a_global_uptrend_after ): \n",
    "        return True\n",
    "    else : \n",
    "        return False \n",
    "\n",
    "tab = [1]*10\n",
    "for i in range(0, 989): \n",
    "    if test_hammer(Candlesticks[i:i+10]): \n",
    "        \n",
    "        for j in range(0, 10): \n",
    "            sell_time = i+j+11 if i+j+11 < 1000 else 999\n",
    "            tab[j] *= (1+(Candlesticks[sell_time][1]- Candlesticks[i][1])/Candlesticks[i][1])\n",
    "        print (i)\n",
    "print (tab)"
   ]
  },
  {
   "cell_type": "code",
   "execution_count": 145,
   "metadata": {},
   "outputs": [
    {
     "name": "stdout",
     "output_type": "stream",
     "text": [
      "265\n",
      "513\n",
      "530\n",
      "757\n",
      "829\n",
      "909\n",
      "[0.979460535377741, 0.9426210593218681, 0.9464900782470741, 0.9465138577984109, 0.9443142461136141, 0.9402481745154989, 0.9415807710796014, 0.9416903303853605, 0.9376411417964543, 1]\n"
     ]
    }
   ],
   "source": [
    "#param: Candlestick: 10 Candlestick extracte withe the binance layout\n",
    "#OutPut: True is ther is a Invertied hammer on the 7th Candlestick\n",
    "def test_inverted_hammer(Candlesticks):\n",
    "    \n",
    "    #cheack if their is a downtrend befor the Hammer (oppening < closing_befor_hammer)\n",
    "    \n",
    "    is_a_global_downtrend_befor = Candlesticks[0][1]*0.995>Candlesticks[5][4]\n",
    "\n",
    "            \n",
    "    #cheack if their is an inverted Hammer\n",
    "    is_an_inverted_hammer = ((Candlesticks[6][4] > Candlesticks[6][1])) and ((Candlesticks[6][4]-Candlesticks[6][3])<(Candlesticks[6][2]-Candlesticks[6][4]))\n",
    "\n",
    "    #cheack if their is a uptrend after the Hammer\n",
    "    is_a_global_uptrend_after = (Candlesticks[7][1]*1.005<Candlesticks[9][4]) \n",
    "    \n",
    "    #cheack if their is an incrised volume after the Hammer\n",
    "    is_a_incrised_volume_after = Candlesticks[6][5]<Candlesticks[8][5]\n",
    "    \n",
    "    if (is_a_global_downtrend_befor and is_an_inverted_hammer and is_a_global_uptrend_after and is_a_global_uptrend_after ): \n",
    "        return True\n",
    "    else : \n",
    "        return False \n",
    "tab = [1]*10\n",
    "for i in range(0, 989): \n",
    "    if test_inverted_hammer(Candlesticks[i:i+10]): \n",
    "        for j in range(11, 20): \n",
    "            tab[j-11] *= (1+(Candlesticks[i+j][1]- Candlesticks[i][1])/Candlesticks[i][1])\n",
    "        print (i)\n",
    "print (tab)"
   ]
  },
  {
   "cell_type": "code",
   "execution_count": 144,
   "metadata": {},
   "outputs": [
    {
     "name": "stdout",
     "output_type": "stream",
     "text": [
      "2\n",
      "157\n",
      "158\n",
      "195\n",
      "223\n",
      "224\n",
      "264\n",
      "265\n",
      "292\n",
      "293\n",
      "317\n",
      "323\n",
      "343\n",
      "376\n",
      "380\n",
      "495\n",
      "592\n",
      "622\n",
      "623\n",
      "711\n",
      "908\n",
      "909\n",
      "923\n",
      "946\n",
      "979\n",
      "[0.8803019460980568, 0.9065850293405021, 0.91711940673619, 0.9366561730771893, 0.9235314380250342, 0.9445978650639051, 0.9087300872541412, 0.8589762715635106, 0.8349656655538354, 1]\n"
     ]
    }
   ],
   "source": [
    "#param: Candlestick: 10 Candlestick extracte withe the binance layout\n",
    "#OutPut: True if ther is a three white soldiers pattern on the 8th-10th Candlestick\n",
    "def test_three_white_soldiers(Candlesticks):\n",
    "    \n",
    "    #cheack if their is a downtrend befor the soldiers (oppening < closing_befor_hammer)\n",
    "    \n",
    "    is_a_global_downtrend_befor = Candlesticks[0][1]*0.995>Candlesticks[6][4]\n",
    "\n",
    "            \n",
    "    #cheack if the 8th is a soldire \n",
    "    is_soldire_one = (Candlesticks[7][4] > Candlesticks[7][1]) \n",
    "    #cheack if their is a uptrend after the Hammer\n",
    "    is_soldire_tow = (Candlesticks[8][4] > Candlesticks[8][1]) \n",
    "    #cheack if their is an incrised volume after the Hammer\n",
    "    is_soldire_three = (Candlesticks[9][4] > Candlesticks[9][1]) \n",
    "    \n",
    "    if (is_a_global_downtrend_befor and is_soldire_one and is_soldire_tow and is_soldire_three): \n",
    "        return True\n",
    "    else : \n",
    "        return False \n",
    "    \n",
    "tab = [1]*10\n",
    "for i in range(0, 989): \n",
    "    if test_three_white_soldiers(Candlesticks[i:i+10]): \n",
    "        for j in range(11, 20): \n",
    "            tab[j-11] *= (1+(Candlesticks[i+j][1]- Candlesticks[i][1])/Candlesticks[i][1])\n",
    "        print (i)\n",
    "print (tab)"
   ]
  },
  {
   "cell_type": "code",
   "execution_count": null,
   "metadata": {},
   "outputs": [],
   "source": [
    "#Idea for cheacking more acurate  if their is a downtrend befor the Hammer\n",
    "numb_of_down_periodes = 0\n",
    "    for Candlestick in Candlesticks[0:7]:\n",
    "        if Candlestick[1]>Candlestick[4]:\n",
    "            numb_of_down_periodes+=1\n",
    "    global_downtrend = Candlesticks[0][1]>Candlesticks[6][4]\n",
    "    if not (numb_of_down_periodes>5 and global_downtrend): \n",
    "        return false "
   ]
  },
  {
   "cell_type": "code",
   "execution_count": 178,
   "metadata": {},
   "outputs": [],
   "source": [
    "import random\n",
    "\n",
    "def test_rand(): \n",
    "    return random.randint(0, 1)==1"
   ]
  },
  {
   "cell_type": "code",
   "execution_count": 187,
   "metadata": {},
   "outputs": [
    {
     "data": {
      "text/plain": [
       "True"
      ]
     },
     "execution_count": 187,
     "metadata": {},
     "output_type": "execute_result"
    }
   ],
   "source": [
    "test_rand()"
   ]
  }
 ],
 "metadata": {
  "kernelspec": {
   "display_name": "Python 3",
   "language": "python",
   "name": "python3"
  },
  "language_info": {
   "codemirror_mode": {
    "name": "ipython",
    "version": 3
   },
   "file_extension": ".py",
   "mimetype": "text/x-python",
   "name": "python",
   "nbconvert_exporter": "python",
   "pygments_lexer": "ipython3",
   "version": "3.7.0"
  }
 },
 "nbformat": 4,
 "nbformat_minor": 2
}
